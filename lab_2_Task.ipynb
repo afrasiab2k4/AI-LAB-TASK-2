{
  "nbformat": 4,
  "nbformat_minor": 0,
  "metadata": {
    "colab": {
      "provenance": [],
      "runtime_attributes": {
        "runtime_version": "2025.07"
      }
    },
    "kernelspec": {
      "name": "python3",
      "display_name": "Python 3"
    },
    "language_info": {
      "name": "python"
    }
  },
  "cells": [
    {
      "cell_type": "code",
      "execution_count": null,
      "metadata": {
        "id": "21mMeGLfCmNs"
      },
      "outputs": [],
      "source": []
    },
    {
      "cell_type": "markdown",
      "source": [
        "**Matpotlib**"
      ],
      "metadata": {
        "id": "DokARgRVC6i6"
      }
    },
    {
      "cell_type": "markdown",
      "source": [
        "**Numpy**"
      ],
      "metadata": {
        "id": "QGqhRTudC9D_"
      }
    },
    {
      "cell_type": "markdown",
      "source": [
        "**Dictionary**"
      ],
      "metadata": {
        "id": "Lb5_RkkiDBHx"
      }
    },
    {
      "cell_type": "markdown",
      "source": [
        "**List**"
      ],
      "metadata": {
        "id": "qmuyacPoDCrJ"
      }
    },
    {
      "cell_type": "code",
      "source": [
        "list = [1,2,3,4,5,6,7,8,9,10]\n",
        "print (list)\n",
        "total = sum(list)\n",
        "print (total)\n",
        "print (max(list))\n",
        "print (min (list))\n",
        "list.append(20)\n",
        "list.remove(2)\n",
        "print(list)\n",
        "print(sorted(list))\n",
        "print(sorted(list, reverse =True))\n",
        "\n",
        "car = ('BMW','Mercedes','Audi')\n",
        "print(car)\n",
        "print(car[1])\n",
        "print(car[2])\n",
        "car_list = list(car_tuple)\n",
        "car[1] = 'Toyota'\n",
        "print(\"tuple after mods\", car_list)\n",
        "\n",
        "\n"
      ],
      "metadata": {
        "colab": {
          "base_uri": "https://localhost:8080/",
          "height": 384
        },
        "id": "01uWqwtpI1lh",
        "outputId": "2cac953c-9e31-4b9f-9807-43393ca90029"
      },
      "execution_count": 13,
      "outputs": [
        {
          "output_type": "stream",
          "name": "stdout",
          "text": [
            "[1, 2, 3, 4, 5, 6, 7, 8, 9, 10]\n",
            "55\n",
            "10\n",
            "1\n",
            "[1, 3, 4, 5, 6, 7, 8, 9, 10, 20]\n",
            "[1, 3, 4, 5, 6, 7, 8, 9, 10, 20]\n",
            "[20, 10, 9, 8, 7, 6, 5, 4, 3, 1]\n",
            "('BMW', 'Mercedes', 'Audi')\n",
            "Mercedes\n",
            "Audi\n"
          ]
        },
        {
          "output_type": "error",
          "ename": "NameError",
          "evalue": "name 'car_tuple' is not defined",
          "traceback": [
            "\u001b[0;31m---------------------------------------------------------------------------\u001b[0m",
            "\u001b[0;31mNameError\u001b[0m                                 Traceback (most recent call last)",
            "\u001b[0;32m/tmp/ipython-input-13-2610855888.py\u001b[0m in \u001b[0;36m<cell line: 0>\u001b[0;34m()\u001b[0m\n\u001b[1;32m     15\u001b[0m \u001b[0mprint\u001b[0m\u001b[0;34m(\u001b[0m\u001b[0mcar\u001b[0m\u001b[0;34m[\u001b[0m\u001b[0;36m1\u001b[0m\u001b[0;34m]\u001b[0m\u001b[0;34m)\u001b[0m\u001b[0;34m\u001b[0m\u001b[0;34m\u001b[0m\u001b[0m\n\u001b[1;32m     16\u001b[0m \u001b[0mprint\u001b[0m\u001b[0;34m(\u001b[0m\u001b[0mcar\u001b[0m\u001b[0;34m[\u001b[0m\u001b[0;36m2\u001b[0m\u001b[0;34m]\u001b[0m\u001b[0;34m)\u001b[0m\u001b[0;34m\u001b[0m\u001b[0;34m\u001b[0m\u001b[0m\n\u001b[0;32m---> 17\u001b[0;31m \u001b[0mcar_list\u001b[0m \u001b[0;34m=\u001b[0m \u001b[0mlist\u001b[0m\u001b[0;34m(\u001b[0m\u001b[0mcar_tuple\u001b[0m\u001b[0;34m)\u001b[0m\u001b[0;34m\u001b[0m\u001b[0;34m\u001b[0m\u001b[0m\n\u001b[0m\u001b[1;32m     18\u001b[0m \u001b[0mcar\u001b[0m\u001b[0;34m[\u001b[0m\u001b[0;36m1\u001b[0m\u001b[0;34m]\u001b[0m \u001b[0;34m=\u001b[0m \u001b[0;34m'Toyota'\u001b[0m\u001b[0;34m\u001b[0m\u001b[0;34m\u001b[0m\u001b[0m\n\u001b[1;32m     19\u001b[0m \u001b[0mprint\u001b[0m\u001b[0;34m(\u001b[0m\u001b[0;34m\"tuple after mods\"\u001b[0m\u001b[0;34m,\u001b[0m \u001b[0mcar_list\u001b[0m\u001b[0;34m)\u001b[0m\u001b[0;34m\u001b[0m\u001b[0;34m\u001b[0m\u001b[0m\n",
            "\u001b[0;31mNameError\u001b[0m: name 'car_tuple' is not defined"
          ]
        }
      ]
    },
    {
      "cell_type": "code",
      "source": [
        "set1 = {1,2,3,4,5}\n",
        "set2 = {5,8,3,4,5}\n",
        "print ('Intersection:', set1.intersection(set2))\n",
        "print ('union:', set1.union(set2))\n",
        "print ('difference:', set1.difference(set2))\n",
        "\n",
        "\n"
      ],
      "metadata": {
        "colab": {
          "base_uri": "https://localhost:8080/"
        },
        "id": "1tS_uYNRWI6Z",
        "outputId": "09b9ae17-2a00-4308-de48-5d52f61646d1"
      },
      "execution_count": 19,
      "outputs": [
        {
          "output_type": "stream",
          "name": "stdout",
          "text": [
            "Intersection: {3, 4, 5}\n",
            "union: {1, 2, 3, 4, 5, 8}\n",
            "difference: {1, 2}\n"
          ]
        }
      ]
    },
    {
      "cell_type": "code",
      "source": [
        "\n",
        "my_dict = {\n",
        "    \"name\": \"Afrasiab Khan\",\n",
        "    \"age\": 24,\n",
        "    \"city\": \"Abbottabad\",\n",
        "    \"job\": \"Interpreter\",\n",
        "    \"hobby\": \"Reading\"\n",
        "}\n",
        "print(my_dict)\n"
      ],
      "metadata": {
        "colab": {
          "base_uri": "https://localhost:8080/"
        },
        "id": "0AyySwuEYL9y",
        "outputId": "7d3892fd-965c-4762-bfaf-4f04881eedec"
      },
      "execution_count": 25,
      "outputs": [
        {
          "output_type": "stream",
          "name": "stdout",
          "text": [
            "{'name': 'Afrasiab Khan', 'age': 24, 'city': 'Abbottabad', 'job': 'Interpreter', 'hobby': 'Reading'}\n"
          ]
        }
      ]
    },
    {
      "cell_type": "markdown",
      "source": [
        "**tuple**"
      ],
      "metadata": {
        "id": "O7sQXfyyDJlJ"
      }
    },
    {
      "cell_type": "markdown",
      "source": [
        "**set**"
      ],
      "metadata": {
        "id": "7IMQMHBuDLK6"
      }
    },
    {
      "cell_type": "markdown",
      "source": [
        "**bold text**"
      ],
      "metadata": {
        "id": "qYIk-WrfDL4J"
      }
    }
  ]
}