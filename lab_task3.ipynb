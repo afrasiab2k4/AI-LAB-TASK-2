{
  "nbformat": 4,
  "nbformat_minor": 0,
  "metadata": {
    "colab": {
      "provenance": []
    },
    "kernelspec": {
      "name": "python3",
      "display_name": "Python 3"
    },
    "language_info": {
      "name": "python"
    }
  },
  "cells": [
    {
      "cell_type": "markdown",
      "source": [
        "Dequeue"
      ],
      "metadata": {
        "id": "ZrOEyb5_LQsG"
      }
    },
    {
      "cell_type": "code",
      "source": [
        "from collections import deque\n",
        "pakistan_cities = {\n",
        "    'Karachi': ['Hyderabad'],\n",
        "    'Hyderabad': ['Karachi', 'Sukkur'],\n",
        "    'Sukkur': ['Hyderabad', 'Multan', 'Quetta'],\n",
        "    'Multan': ['Sukkur', 'Lahore'],\n",
        "    'Quetta': ['Sukkur'],\n",
        "    'Lahore': ['Multan', 'Islamabad'],\n",
        "    'Islamabad': ['Lahore', 'Peshawar'],\n",
        "    'Peshawar': ['Islamabad']\n",
        "}"
      ],
      "metadata": {
        "id": "0mxNPye-LUOu"
      },
      "execution_count": 8,
      "outputs": []
    },
    {
      "cell_type": "markdown",
      "source": [
        "BFS Implementation"
      ],
      "metadata": {
        "id": "sqnv8hrcaHsl"
      }
    },
    {
      "cell_type": "code",
      "source": [
        "def bfs_shortest_path(graph, start, goal):\n",
        "    queue = deque([[start]])\n",
        "    visited = set()\n",
        "\n",
        "    while queue:\n",
        "        path = queue.popleft()\n",
        "        current_city = path[-1]\n",
        "        if current_city == goal:\n",
        "            return path\n",
        "\n",
        "        if current_city not in visited:\n",
        "            visited.add(current_city)\n",
        "            for neighbor in graph.get(current_city, []):\n",
        "                new_path = list(path)\n",
        "                new_path.append(neighbor)\n",
        "                queue.append(new_path)\n",
        "\n",
        "    return None"
      ],
      "metadata": {
        "id": "WGHBeo-paMC9"
      },
      "execution_count": 15,
      "outputs": []
    },
    {
      "cell_type": "markdown",
      "source": [
        "DFS Implementation"
      ],
      "metadata": {
        "id": "sMUeMPXEaQ1s"
      }
    },
    {
      "cell_type": "code",
      "source": [
        "def dfs_path(graph, start, goal, path=None, visited=None):\n",
        "    if path is None:\n",
        "        path = []\n",
        "    if visited is None:\n",
        "        visited = set()\n",
        "\n",
        "    path.append(start)\n",
        "    visited.add(start)\n",
        "\n",
        "    if start == goal:\n",
        "        return path\n",
        "\n",
        "    for neighbor in graph.get(start, []):\n",
        "        if neighbor not in visited:\n",
        "            result = dfs_path(graph, neighbor, goal, path.copy(), visited.copy())\n",
        "            if result:\n",
        "                return result\n",
        "    return None\n",
        "\n",
        "start_city = \"Peshawar\"\n",
        "goal_city = \"Sukkur\"\n",
        "\n",
        "bfs_result = bfs_shortest_path(pakistan_cities, start_city, goal_city)\n",
        "print(\"BFS Shortest Path from Peshawar to Sukkur:\", bfs_result)\n",
        "\n",
        "dfs_result = dfs_path(pakistan_cities, start_city, goal_city)\n",
        "print(\"DFS Path from Peshawar to Sukkur:\", dfs_result)"
      ],
      "metadata": {
        "colab": {
          "base_uri": "https://localhost:8080/"
        },
        "id": "aSWlwCNsaU28",
        "outputId": "62a5ccd0-16dc-405d-fed9-2aa71c8468a4"
      },
      "execution_count": 10,
      "outputs": [
        {
          "output_type": "stream",
          "name": "stdout",
          "text": [
            "BFS Shortest Path from Peshawar to Sukkur: ['Peshawar', 'Islamabad', 'Lahore', 'Multan', 'Sukkur']\n",
            "DFS Path from Peshawar to Sukkur: ['Peshawar', 'Islamabad', 'Lahore', 'Multan', 'Sukkur']\n"
          ]
        }
      ]
    }
  ]
}